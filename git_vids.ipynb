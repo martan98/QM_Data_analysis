{
 "cells": [
  {
   "attachments": {},
   "cell_type": "markdown",
   "metadata": {},
   "source": [
    "## Git VID - Part 1\n",
    "\n",
    "git helps us managing our files\n",
    "\n",
    "git keeps track of every change we do to files\n",
    "\n",
    "*History \n",
    "\n",
    "*Collaboration\n",
    "    - allows to merge changes from various people\n",
    "\n",
    "*Feature branches\n",
    "    - existing File \n",
    "    - each task is defined as a branch\n",
    "    - if a branch is finished it can be \"merged\" to the \"tree\"\n",
    "\n",
    "- Why should we use Git?\n",
    "    - Industry Standard\n",
    "    -organizatonial tool for induviduals\n"
   ]
  },
  {
   "attachments": {},
   "cell_type": "markdown",
   "metadata": {},
   "source": [
    "## Git VID - Part 2\n",
    "\n",
    "Project = Repository (repo)\n",
    "\n",
    "Working directory \n",
    "\n",
    "staging\n",
    "    - control of what gets commited, following these steps\n",
    "        - from the working directory, we modified 4 files\n",
    "        - these get draged into the staging Area, where we review the changes and \n",
    "        - commit\n",
    "\n",
    "Commit\n",
    "    -gits way of saving stuff\n",
    "    - nothing gets changed to githubs repo unless we commit\n",
    "\n",
    "### how to commit\n",
    "\n",
    "1. review changes\n",
    "1. add changes to git\n",
    "1. commit\n",
    "\n",
    "### push & pull\n",
    "\n",
    "git has a hidden system folder in the working directory(on the hardrive where the file is stored)\n",
    "\n",
    "github is a server to host repositories\n",
    "\n",
    "- push \n",
    "    it adds the local file to the github repository on github\n",
    "\n",
    "- pull \n",
    "    pull in the latest version from the server\n",
    "\n"
   ]
  },
  {
   "attachments": {},
   "cell_type": "markdown",
   "metadata": {},
   "source": [
    "## Git VID - Part 3\n",
    "\n",
    "using the command line \n",
    "\n",
    "- installation via the website\n",
    "    https://git-scm.com/download/linux\n",
    "\n",
    "    \"Download for Linux and Unix:\n",
    "   For the latest stable version for your release of Debian/Ubuntu\n",
    "    # apt-get install git\n",
    "\n",
    "    For Ubuntu, this PPA provides the latest stable upstream Git version\n",
    "    # add-apt-repository ppa:git-core/ppa # apt update; apt install git\n",
    "\n",
    "\n"
   ]
  },
  {
   "cell_type": "code",
   "execution_count": null,
   "metadata": {
    "vscode": {
     "languageId": "shellscript"
    }
   },
   "outputs": [],
   "source": [
    "git config --global user.name \"Bernd\"\n",
    "git config --global user.email ********@gmail.com\n",
    "\n",
    "# creating a new repo\n",
    "git init\n",
    "git add index.html\n",
    "git status\n",
    "git commit -m 'My first commit'\n",
    "git checkout -- .\n",
    "\n",
    "# cloning existing repo \n",
    "\n",
    "git clone [LINK]\n",
    "\n",
    "# navigate to projects folder\n",
    "\n",
    "git clone https://github.comLearnWebCode/welcome-to-git.git\n",
    "\n",
    "git remote -v\n",
    "git remote add origin https://github.com/thegitrogmonster/fictional-site.git\n",
    "git remote set-url origin https://github.com/thegitrogmonster/fictional-site\n",
    "git remote -v\n",
    "> origin  https://github.com/thegitrogmonster/fictional-site (fetch)\n",
    "> origin  https://github.com/thegitrogmonster/fictional-site (push)\n",
    "\n",
    "\n"
   ]
  },
  {
   "attachments": {},
   "cell_type": "markdown",
   "metadata": {},
   "source": [
    "git config --global credential.helper 'cache --timeout 28800'  # keep password in cache for 8 hours\n",
    "git config --global credential.helper store  # store password permanently (in plain-text)"
   ]
  },
  {
   "attachments": {},
   "cell_type": "markdown",
   "metadata": {},
   "source": [
    "## Changing the master branch name\n",
    "\n",
    "how to see https://git-scm.com/book/en/v2/Git-Branching-Branch-Management\n",
    "\n",
    "$ git branch --move master main\n",
    "\n",
    "$ git push --set-upstream origin main"
   ]
  }
 ],
 "metadata": {
  "language_info": {
   "name": "python"
  },
  "orig_nbformat": 4
 },
 "nbformat": 4,
 "nbformat_minor": 2
}
